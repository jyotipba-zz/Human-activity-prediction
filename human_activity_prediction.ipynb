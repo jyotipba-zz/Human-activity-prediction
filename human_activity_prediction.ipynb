{
 "cells": [
  {
   "cell_type": "code",
   "execution_count": 1,
   "metadata": {
    "collapsed": false
   },
   "outputs": [],
   "source": [
    "import pandas as pd\n",
    "import numpy as np\n",
    "\n",
    " \n",
    "\n",
    "from sklearn.naive_bayes import GaussianNB\n",
    "from sklearn.grid_search import GridSearchCV\n",
    "from sklearn.svm import SVC\n",
    "from sklearn.metrics import accuracy_score\n",
    "from sklearn.decomposition import PCA\n",
    "from sklearn.metrics import confusion_matrix\n",
    "from sklearn.ensemble import RandomForestClassifier\n"
   ]
  },
  {
   "cell_type": "code",
   "execution_count": 2,
   "metadata": {
    "collapsed": false
   },
   "outputs": [
    {
     "data": {
      "text/plain": [
       "(7352, 561)"
      ]
     },
     "execution_count": 2,
     "metadata": {},
     "output_type": "execute_result"
    }
   ],
   "source": [
    "df_train = pd.read_fwf('X_train.txt',header=None)  ## loading train data\n",
    "df_train.shape  ##(7352, 561)\n"
   ]
  },
  {
   "cell_type": "code",
   "execution_count": 3,
   "metadata": {
    "collapsed": false
   },
   "outputs": [
    {
     "data": {
      "text/html": [
       "<div>\n",
       "<table border=\"1\" class=\"dataframe\">\n",
       "  <thead>\n",
       "    <tr style=\"text-align: right;\">\n",
       "      <th></th>\n",
       "      <th>0</th>\n",
       "      <th>1</th>\n",
       "      <th>2</th>\n",
       "      <th>3</th>\n",
       "      <th>4</th>\n",
       "      <th>5</th>\n",
       "      <th>6</th>\n",
       "      <th>7</th>\n",
       "      <th>8</th>\n",
       "      <th>9</th>\n",
       "      <th>...</th>\n",
       "      <th>551</th>\n",
       "      <th>552</th>\n",
       "      <th>553</th>\n",
       "      <th>554</th>\n",
       "      <th>555</th>\n",
       "      <th>556</th>\n",
       "      <th>557</th>\n",
       "      <th>558</th>\n",
       "      <th>559</th>\n",
       "      <th>560</th>\n",
       "    </tr>\n",
       "  </thead>\n",
       "  <tbody>\n",
       "    <tr>\n",
       "      <th>count</th>\n",
       "      <td>7352.000000</td>\n",
       "      <td>7352.000000</td>\n",
       "      <td>7352.000000</td>\n",
       "      <td>7352.000000</td>\n",
       "      <td>7352.000000</td>\n",
       "      <td>7352.000000</td>\n",
       "      <td>7352.000000</td>\n",
       "      <td>7352.000000</td>\n",
       "      <td>7352.000000</td>\n",
       "      <td>7352.000000</td>\n",
       "      <td>...</td>\n",
       "      <td>7352.000000</td>\n",
       "      <td>7352.000000</td>\n",
       "      <td>7352.000000</td>\n",
       "      <td>7352.000000</td>\n",
       "      <td>7352.000000</td>\n",
       "      <td>7352.000000</td>\n",
       "      <td>7352.000000</td>\n",
       "      <td>7352.000000</td>\n",
       "      <td>7352.000000</td>\n",
       "      <td>7352.000000</td>\n",
       "    </tr>\n",
       "    <tr>\n",
       "      <th>mean</th>\n",
       "      <td>0.274488</td>\n",
       "      <td>-0.017695</td>\n",
       "      <td>-0.109141</td>\n",
       "      <td>-0.605438</td>\n",
       "      <td>-0.510938</td>\n",
       "      <td>-0.604754</td>\n",
       "      <td>-0.630512</td>\n",
       "      <td>-0.526907</td>\n",
       "      <td>-0.606150</td>\n",
       "      <td>-0.468604</td>\n",
       "      <td>...</td>\n",
       "      <td>0.125293</td>\n",
       "      <td>-0.307009</td>\n",
       "      <td>-0.625294</td>\n",
       "      <td>0.008684</td>\n",
       "      <td>0.002186</td>\n",
       "      <td>0.008726</td>\n",
       "      <td>-0.005981</td>\n",
       "      <td>-0.489547</td>\n",
       "      <td>0.058593</td>\n",
       "      <td>-0.056515</td>\n",
       "    </tr>\n",
       "    <tr>\n",
       "      <th>std</th>\n",
       "      <td>0.070261</td>\n",
       "      <td>0.040811</td>\n",
       "      <td>0.056635</td>\n",
       "      <td>0.448734</td>\n",
       "      <td>0.502645</td>\n",
       "      <td>0.418687</td>\n",
       "      <td>0.424073</td>\n",
       "      <td>0.485942</td>\n",
       "      <td>0.414122</td>\n",
       "      <td>0.544547</td>\n",
       "      <td>...</td>\n",
       "      <td>0.250994</td>\n",
       "      <td>0.321011</td>\n",
       "      <td>0.307584</td>\n",
       "      <td>0.336787</td>\n",
       "      <td>0.448306</td>\n",
       "      <td>0.608303</td>\n",
       "      <td>0.477975</td>\n",
       "      <td>0.511807</td>\n",
       "      <td>0.297480</td>\n",
       "      <td>0.279122</td>\n",
       "    </tr>\n",
       "    <tr>\n",
       "      <th>min</th>\n",
       "      <td>-1.000000</td>\n",
       "      <td>-1.000000</td>\n",
       "      <td>-1.000000</td>\n",
       "      <td>-1.000000</td>\n",
       "      <td>-0.999873</td>\n",
       "      <td>-1.000000</td>\n",
       "      <td>-1.000000</td>\n",
       "      <td>-1.000000</td>\n",
       "      <td>-1.000000</td>\n",
       "      <td>-1.000000</td>\n",
       "      <td>...</td>\n",
       "      <td>-1.000000</td>\n",
       "      <td>-0.995357</td>\n",
       "      <td>-0.999765</td>\n",
       "      <td>-0.976580</td>\n",
       "      <td>-1.000000</td>\n",
       "      <td>-1.000000</td>\n",
       "      <td>-1.000000</td>\n",
       "      <td>-1.000000</td>\n",
       "      <td>-1.000000</td>\n",
       "      <td>-1.000000</td>\n",
       "    </tr>\n",
       "    <tr>\n",
       "      <th>25%</th>\n",
       "      <td>0.262975</td>\n",
       "      <td>-0.024863</td>\n",
       "      <td>-0.120993</td>\n",
       "      <td>-0.992754</td>\n",
       "      <td>-0.978129</td>\n",
       "      <td>-0.980233</td>\n",
       "      <td>-0.993591</td>\n",
       "      <td>-0.978162</td>\n",
       "      <td>-0.980251</td>\n",
       "      <td>-0.936219</td>\n",
       "      <td>...</td>\n",
       "      <td>-0.023692</td>\n",
       "      <td>-0.542602</td>\n",
       "      <td>-0.845573</td>\n",
       "      <td>-0.121527</td>\n",
       "      <td>-0.289549</td>\n",
       "      <td>-0.482273</td>\n",
       "      <td>-0.376341</td>\n",
       "      <td>-0.812065</td>\n",
       "      <td>-0.017885</td>\n",
       "      <td>-0.143414</td>\n",
       "    </tr>\n",
       "    <tr>\n",
       "      <th>50%</th>\n",
       "      <td>0.277193</td>\n",
       "      <td>-0.017219</td>\n",
       "      <td>-0.108676</td>\n",
       "      <td>-0.946196</td>\n",
       "      <td>-0.851897</td>\n",
       "      <td>-0.859365</td>\n",
       "      <td>-0.950709</td>\n",
       "      <td>-0.857328</td>\n",
       "      <td>-0.857143</td>\n",
       "      <td>-0.881637</td>\n",
       "      <td>...</td>\n",
       "      <td>0.134000</td>\n",
       "      <td>-0.343685</td>\n",
       "      <td>-0.711692</td>\n",
       "      <td>0.009509</td>\n",
       "      <td>0.008943</td>\n",
       "      <td>0.008735</td>\n",
       "      <td>-0.000368</td>\n",
       "      <td>-0.709417</td>\n",
       "      <td>0.182071</td>\n",
       "      <td>0.003181</td>\n",
       "    </tr>\n",
       "    <tr>\n",
       "      <th>75%</th>\n",
       "      <td>0.288461</td>\n",
       "      <td>-0.010783</td>\n",
       "      <td>-0.097794</td>\n",
       "      <td>-0.242813</td>\n",
       "      <td>-0.034231</td>\n",
       "      <td>-0.262415</td>\n",
       "      <td>-0.292680</td>\n",
       "      <td>-0.066701</td>\n",
       "      <td>-0.265671</td>\n",
       "      <td>-0.017129</td>\n",
       "      <td>...</td>\n",
       "      <td>0.289096</td>\n",
       "      <td>-0.126979</td>\n",
       "      <td>-0.503878</td>\n",
       "      <td>0.150865</td>\n",
       "      <td>0.292861</td>\n",
       "      <td>0.506187</td>\n",
       "      <td>0.359368</td>\n",
       "      <td>-0.509079</td>\n",
       "      <td>0.248353</td>\n",
       "      <td>0.107659</td>\n",
       "    </tr>\n",
       "    <tr>\n",
       "      <th>max</th>\n",
       "      <td>1.000000</td>\n",
       "      <td>1.000000</td>\n",
       "      <td>1.000000</td>\n",
       "      <td>1.000000</td>\n",
       "      <td>0.916238</td>\n",
       "      <td>1.000000</td>\n",
       "      <td>1.000000</td>\n",
       "      <td>0.967664</td>\n",
       "      <td>1.000000</td>\n",
       "      <td>1.000000</td>\n",
       "      <td>...</td>\n",
       "      <td>0.946700</td>\n",
       "      <td>0.989538</td>\n",
       "      <td>0.956845</td>\n",
       "      <td>1.000000</td>\n",
       "      <td>1.000000</td>\n",
       "      <td>0.998702</td>\n",
       "      <td>0.996078</td>\n",
       "      <td>1.000000</td>\n",
       "      <td>0.478157</td>\n",
       "      <td>1.000000</td>\n",
       "    </tr>\n",
       "  </tbody>\n",
       "</table>\n",
       "<p>8 rows × 561 columns</p>\n",
       "</div>"
      ],
      "text/plain": [
       "               0            1            2            3            4    \\\n",
       "count  7352.000000  7352.000000  7352.000000  7352.000000  7352.000000   \n",
       "mean      0.274488    -0.017695    -0.109141    -0.605438    -0.510938   \n",
       "std       0.070261     0.040811     0.056635     0.448734     0.502645   \n",
       "min      -1.000000    -1.000000    -1.000000    -1.000000    -0.999873   \n",
       "25%       0.262975    -0.024863    -0.120993    -0.992754    -0.978129   \n",
       "50%       0.277193    -0.017219    -0.108676    -0.946196    -0.851897   \n",
       "75%       0.288461    -0.010783    -0.097794    -0.242813    -0.034231   \n",
       "max       1.000000     1.000000     1.000000     1.000000     0.916238   \n",
       "\n",
       "               5            6            7            8            9    \\\n",
       "count  7352.000000  7352.000000  7352.000000  7352.000000  7352.000000   \n",
       "mean     -0.604754    -0.630512    -0.526907    -0.606150    -0.468604   \n",
       "std       0.418687     0.424073     0.485942     0.414122     0.544547   \n",
       "min      -1.000000    -1.000000    -1.000000    -1.000000    -1.000000   \n",
       "25%      -0.980233    -0.993591    -0.978162    -0.980251    -0.936219   \n",
       "50%      -0.859365    -0.950709    -0.857328    -0.857143    -0.881637   \n",
       "75%      -0.262415    -0.292680    -0.066701    -0.265671    -0.017129   \n",
       "max       1.000000     1.000000     0.967664     1.000000     1.000000   \n",
       "\n",
       "          ...               551          552          553          554  \\\n",
       "count     ...       7352.000000  7352.000000  7352.000000  7352.000000   \n",
       "mean      ...          0.125293    -0.307009    -0.625294     0.008684   \n",
       "std       ...          0.250994     0.321011     0.307584     0.336787   \n",
       "min       ...         -1.000000    -0.995357    -0.999765    -0.976580   \n",
       "25%       ...         -0.023692    -0.542602    -0.845573    -0.121527   \n",
       "50%       ...          0.134000    -0.343685    -0.711692     0.009509   \n",
       "75%       ...          0.289096    -0.126979    -0.503878     0.150865   \n",
       "max       ...          0.946700     0.989538     0.956845     1.000000   \n",
       "\n",
       "               555          556          557          558          559  \\\n",
       "count  7352.000000  7352.000000  7352.000000  7352.000000  7352.000000   \n",
       "mean      0.002186     0.008726    -0.005981    -0.489547     0.058593   \n",
       "std       0.448306     0.608303     0.477975     0.511807     0.297480   \n",
       "min      -1.000000    -1.000000    -1.000000    -1.000000    -1.000000   \n",
       "25%      -0.289549    -0.482273    -0.376341    -0.812065    -0.017885   \n",
       "50%       0.008943     0.008735    -0.000368    -0.709417     0.182071   \n",
       "75%       0.292861     0.506187     0.359368    -0.509079     0.248353   \n",
       "max       1.000000     0.998702     0.996078     1.000000     0.478157   \n",
       "\n",
       "               560  \n",
       "count  7352.000000  \n",
       "mean     -0.056515  \n",
       "std       0.279122  \n",
       "min      -1.000000  \n",
       "25%      -0.143414  \n",
       "50%       0.003181  \n",
       "75%       0.107659  \n",
       "max       1.000000  \n",
       "\n",
       "[8 rows x 561 columns]"
      ]
     },
     "execution_count": 3,
     "metadata": {},
     "output_type": "execute_result"
    }
   ],
   "source": [
    "df_train.describe()   ## Provides the summary staistics of numrical vaiables\n",
    "##  all the variables are numrical "
   ]
  },
  {
   "cell_type": "code",
   "execution_count": 3,
   "metadata": {
    "collapsed": false
   },
   "outputs": [
    {
     "data": {
      "text/plain": [
       "561"
      ]
     },
     "execution_count": 3,
     "metadata": {},
     "output_type": "execute_result"
    }
   ],
   "source": [
    "chk_missing_value=df_train.apply(lambda x: sum(x.isnull()), axis=0)\n",
    "sum(chk_missing_value==0)  ## NO variable has missing values"
   ]
  },
  {
   "cell_type": "code",
   "execution_count": 4,
   "metadata": {
    "collapsed": false
   },
   "outputs": [
    {
     "name": "stdout",
     "output_type": "stream",
     "text": [
      "False\n"
     ]
    }
   ],
   "source": [
    "print(df_train.isnull().any().any())\n",
    "##print(test.isnull().any().any())"
   ]
  },
  {
   "cell_type": "code",
   "execution_count": 5,
   "metadata": {
    "collapsed": false
   },
   "outputs": [
    {
     "data": {
      "text/html": [
       "<div>\n",
       "<table border=\"1\" class=\"dataframe\">\n",
       "  <thead>\n",
       "    <tr style=\"text-align: right;\">\n",
       "      <th></th>\n",
       "      <th>0</th>\n",
       "    </tr>\n",
       "  </thead>\n",
       "  <tbody>\n",
       "    <tr>\n",
       "      <th>0</th>\n",
       "      <td>1 tBodyAcc-mean()-X</td>\n",
       "    </tr>\n",
       "    <tr>\n",
       "      <th>1</th>\n",
       "      <td>2 tBodyAcc-mean()-Y</td>\n",
       "    </tr>\n",
       "    <tr>\n",
       "      <th>2</th>\n",
       "      <td>3 tBodyAcc-mean()-Z</td>\n",
       "    </tr>\n",
       "    <tr>\n",
       "      <th>3</th>\n",
       "      <td>4 tBodyAcc-std()-X</td>\n",
       "    </tr>\n",
       "    <tr>\n",
       "      <th>4</th>\n",
       "      <td>5 tBodyAcc-std()-Y</td>\n",
       "    </tr>\n",
       "    <tr>\n",
       "      <th>5</th>\n",
       "      <td>6 tBodyAcc-std()-Z</td>\n",
       "    </tr>\n",
       "    <tr>\n",
       "      <th>6</th>\n",
       "      <td>7 tBodyAcc-mad()-X</td>\n",
       "    </tr>\n",
       "    <tr>\n",
       "      <th>7</th>\n",
       "      <td>8 tBodyAcc-mad()-Y</td>\n",
       "    </tr>\n",
       "    <tr>\n",
       "      <th>8</th>\n",
       "      <td>9 tBodyAcc-mad()-Z</td>\n",
       "    </tr>\n",
       "    <tr>\n",
       "      <th>9</th>\n",
       "      <td>10 tBodyAcc-max()-X</td>\n",
       "    </tr>\n",
       "  </tbody>\n",
       "</table>\n",
       "</div>"
      ],
      "text/plain": [
       "                     0\n",
       "0  1 tBodyAcc-mean()-X\n",
       "1  2 tBodyAcc-mean()-Y\n",
       "2  3 tBodyAcc-mean()-Z\n",
       "3   4 tBodyAcc-std()-X\n",
       "4   5 tBodyAcc-std()-Y\n",
       "5   6 tBodyAcc-std()-Z\n",
       "6   7 tBodyAcc-mad()-X\n",
       "7   8 tBodyAcc-mad()-Y\n",
       "8   9 tBodyAcc-mad()-Z\n",
       "9  10 tBodyAcc-max()-X"
      ]
     },
     "execution_count": 5,
     "metadata": {},
     "output_type": "execute_result"
    }
   ],
   "source": [
    "features=pd.read_fwf(\"features.txt\",header=None)  ## Feature names\n",
    "features.head(10)"
   ]
  },
  {
   "cell_type": "code",
   "execution_count": 6,
   "metadata": {
    "collapsed": false
   },
   "outputs": [],
   "source": [
    "y_train=pd.read_fwf(\"y_train.txt\",header=None)  ## train class label"
   ]
  },
  {
   "cell_type": "code",
   "execution_count": 7,
   "metadata": {
    "collapsed": false
   },
   "outputs": [
    {
     "data": {
      "text/plain": [
       "6    1407\n",
       "5    1374\n",
       "4    1286\n",
       "1    1226\n",
       "2    1073\n",
       "3     986\n",
       "Name: 0, dtype: int64"
      ]
     },
     "execution_count": 7,
     "metadata": {},
     "output_type": "execute_result"
    }
   ],
   "source": [
    "y_train[0].value_counts() ## Viewing the  class distribution in training set data"
   ]
  },
  {
   "cell_type": "code",
   "execution_count": 8,
   "metadata": {
    "collapsed": false
   },
   "outputs": [
    {
     "data": {
      "text/html": [
       "<div>\n",
       "<table border=\"1\" class=\"dataframe\">\n",
       "  <thead>\n",
       "    <tr style=\"text-align: right;\">\n",
       "      <th></th>\n",
       "      <th>0</th>\n",
       "      <th>1</th>\n",
       "      <th>2</th>\n",
       "      <th>3</th>\n",
       "      <th>4</th>\n",
       "      <th>5</th>\n",
       "      <th>6</th>\n",
       "      <th>7</th>\n",
       "      <th>8</th>\n",
       "      <th>9</th>\n",
       "      <th>...</th>\n",
       "      <th>551</th>\n",
       "      <th>552</th>\n",
       "      <th>553</th>\n",
       "      <th>554</th>\n",
       "      <th>555</th>\n",
       "      <th>556</th>\n",
       "      <th>557</th>\n",
       "      <th>558</th>\n",
       "      <th>559</th>\n",
       "      <th>560</th>\n",
       "    </tr>\n",
       "  </thead>\n",
       "  <tbody>\n",
       "    <tr>\n",
       "      <th>count</th>\n",
       "      <td>2947.000000</td>\n",
       "      <td>2947.000000</td>\n",
       "      <td>2947.000000</td>\n",
       "      <td>2947.000000</td>\n",
       "      <td>2947.000000</td>\n",
       "      <td>2947.000000</td>\n",
       "      <td>2947.000000</td>\n",
       "      <td>2947.000000</td>\n",
       "      <td>2947.000000</td>\n",
       "      <td>2947.000000</td>\n",
       "      <td>...</td>\n",
       "      <td>2947.000000</td>\n",
       "      <td>2947.000000</td>\n",
       "      <td>2947.000000</td>\n",
       "      <td>2947.000000</td>\n",
       "      <td>2947.000000</td>\n",
       "      <td>2947.000000</td>\n",
       "      <td>2947.000000</td>\n",
       "      <td>2947.000000</td>\n",
       "      <td>2947.000000</td>\n",
       "      <td>2947.000000</td>\n",
       "    </tr>\n",
       "    <tr>\n",
       "      <th>mean</th>\n",
       "      <td>0.275860</td>\n",
       "      <td>-0.017863</td>\n",
       "      <td>-0.108386</td>\n",
       "      <td>-0.613635</td>\n",
       "      <td>-0.508330</td>\n",
       "      <td>-0.633797</td>\n",
       "      <td>-0.641278</td>\n",
       "      <td>-0.522676</td>\n",
       "      <td>-0.637038</td>\n",
       "      <td>-0.462063</td>\n",
       "      <td>...</td>\n",
       "      <td>0.130236</td>\n",
       "      <td>-0.277593</td>\n",
       "      <td>-0.598756</td>\n",
       "      <td>0.005264</td>\n",
       "      <td>0.003799</td>\n",
       "      <td>0.040029</td>\n",
       "      <td>-0.017298</td>\n",
       "      <td>-0.513923</td>\n",
       "      <td>0.074886</td>\n",
       "      <td>-0.048720</td>\n",
       "    </tr>\n",
       "    <tr>\n",
       "      <th>std</th>\n",
       "      <td>0.051413</td>\n",
       "      <td>0.025745</td>\n",
       "      <td>0.042747</td>\n",
       "      <td>0.412597</td>\n",
       "      <td>0.494269</td>\n",
       "      <td>0.362699</td>\n",
       "      <td>0.385199</td>\n",
       "      <td>0.479899</td>\n",
       "      <td>0.357753</td>\n",
       "      <td>0.523916</td>\n",
       "      <td>...</td>\n",
       "      <td>0.231018</td>\n",
       "      <td>0.317245</td>\n",
       "      <td>0.311042</td>\n",
       "      <td>0.336147</td>\n",
       "      <td>0.445077</td>\n",
       "      <td>0.634989</td>\n",
       "      <td>0.501311</td>\n",
       "      <td>0.509205</td>\n",
       "      <td>0.324300</td>\n",
       "      <td>0.241467</td>\n",
       "    </tr>\n",
       "    <tr>\n",
       "      <th>min</th>\n",
       "      <td>0.022332</td>\n",
       "      <td>-0.362884</td>\n",
       "      <td>-0.576184</td>\n",
       "      <td>-0.999606</td>\n",
       "      <td>-1.000000</td>\n",
       "      <td>-0.998955</td>\n",
       "      <td>-0.999417</td>\n",
       "      <td>-0.999914</td>\n",
       "      <td>-0.998899</td>\n",
       "      <td>-0.952357</td>\n",
       "      <td>...</td>\n",
       "      <td>-0.785543</td>\n",
       "      <td>-1.000000</td>\n",
       "      <td>-1.000000</td>\n",
       "      <td>-1.000000</td>\n",
       "      <td>-0.993402</td>\n",
       "      <td>-0.998898</td>\n",
       "      <td>-0.991096</td>\n",
       "      <td>-0.984195</td>\n",
       "      <td>-0.913704</td>\n",
       "      <td>-0.949228</td>\n",
       "    </tr>\n",
       "    <tr>\n",
       "      <th>25%</th>\n",
       "      <td>0.262273</td>\n",
       "      <td>-0.024961</td>\n",
       "      <td>-0.121162</td>\n",
       "      <td>-0.990914</td>\n",
       "      <td>-0.973664</td>\n",
       "      <td>-0.976122</td>\n",
       "      <td>-0.992333</td>\n",
       "      <td>-0.974131</td>\n",
       "      <td>-0.975352</td>\n",
       "      <td>-0.934447</td>\n",
       "      <td>...</td>\n",
       "      <td>-0.008433</td>\n",
       "      <td>-0.517494</td>\n",
       "      <td>-0.829593</td>\n",
       "      <td>-0.130541</td>\n",
       "      <td>-0.282600</td>\n",
       "      <td>-0.518924</td>\n",
       "      <td>-0.428375</td>\n",
       "      <td>-0.829722</td>\n",
       "      <td>0.022140</td>\n",
       "      <td>-0.098485</td>\n",
       "    </tr>\n",
       "    <tr>\n",
       "      <th>50%</th>\n",
       "      <td>0.277146</td>\n",
       "      <td>-0.016967</td>\n",
       "      <td>-0.108458</td>\n",
       "      <td>-0.931214</td>\n",
       "      <td>-0.790972</td>\n",
       "      <td>-0.827534</td>\n",
       "      <td>-0.937664</td>\n",
       "      <td>-0.799907</td>\n",
       "      <td>-0.817005</td>\n",
       "      <td>-0.852659</td>\n",
       "      <td>...</td>\n",
       "      <td>0.142676</td>\n",
       "      <td>-0.311023</td>\n",
       "      <td>-0.683672</td>\n",
       "      <td>0.005188</td>\n",
       "      <td>0.006767</td>\n",
       "      <td>0.047113</td>\n",
       "      <td>-0.026726</td>\n",
       "      <td>-0.729648</td>\n",
       "      <td>0.181563</td>\n",
       "      <td>-0.010671</td>\n",
       "    </tr>\n",
       "    <tr>\n",
       "      <th>75%</th>\n",
       "      <td>0.288372</td>\n",
       "      <td>-0.010143</td>\n",
       "      <td>-0.097123</td>\n",
       "      <td>-0.267395</td>\n",
       "      <td>-0.105919</td>\n",
       "      <td>-0.311432</td>\n",
       "      <td>-0.321719</td>\n",
       "      <td>-0.133488</td>\n",
       "      <td>-0.322771</td>\n",
       "      <td>-0.009965</td>\n",
       "      <td>...</td>\n",
       "      <td>0.288320</td>\n",
       "      <td>-0.083559</td>\n",
       "      <td>-0.458332</td>\n",
       "      <td>0.146200</td>\n",
       "      <td>0.288113</td>\n",
       "      <td>0.622151</td>\n",
       "      <td>0.394387</td>\n",
       "      <td>-0.545939</td>\n",
       "      <td>0.260252</td>\n",
       "      <td>0.092373</td>\n",
       "    </tr>\n",
       "    <tr>\n",
       "      <th>max</th>\n",
       "      <td>0.671887</td>\n",
       "      <td>0.246106</td>\n",
       "      <td>0.494114</td>\n",
       "      <td>0.465299</td>\n",
       "      <td>1.000000</td>\n",
       "      <td>0.489703</td>\n",
       "      <td>0.439657</td>\n",
       "      <td>1.000000</td>\n",
       "      <td>0.427958</td>\n",
       "      <td>0.786436</td>\n",
       "      <td>...</td>\n",
       "      <td>1.000000</td>\n",
       "      <td>1.000000</td>\n",
       "      <td>1.000000</td>\n",
       "      <td>0.998898</td>\n",
       "      <td>0.986347</td>\n",
       "      <td>1.000000</td>\n",
       "      <td>1.000000</td>\n",
       "      <td>0.833180</td>\n",
       "      <td>1.000000</td>\n",
       "      <td>0.973113</td>\n",
       "    </tr>\n",
       "  </tbody>\n",
       "</table>\n",
       "<p>8 rows × 561 columns</p>\n",
       "</div>"
      ],
      "text/plain": [
       "               0            1            2            3            4    \\\n",
       "count  2947.000000  2947.000000  2947.000000  2947.000000  2947.000000   \n",
       "mean      0.275860    -0.017863    -0.108386    -0.613635    -0.508330   \n",
       "std       0.051413     0.025745     0.042747     0.412597     0.494269   \n",
       "min       0.022332    -0.362884    -0.576184    -0.999606    -1.000000   \n",
       "25%       0.262273    -0.024961    -0.121162    -0.990914    -0.973664   \n",
       "50%       0.277146    -0.016967    -0.108458    -0.931214    -0.790972   \n",
       "75%       0.288372    -0.010143    -0.097123    -0.267395    -0.105919   \n",
       "max       0.671887     0.246106     0.494114     0.465299     1.000000   \n",
       "\n",
       "               5            6            7            8            9    \\\n",
       "count  2947.000000  2947.000000  2947.000000  2947.000000  2947.000000   \n",
       "mean     -0.633797    -0.641278    -0.522676    -0.637038    -0.462063   \n",
       "std       0.362699     0.385199     0.479899     0.357753     0.523916   \n",
       "min      -0.998955    -0.999417    -0.999914    -0.998899    -0.952357   \n",
       "25%      -0.976122    -0.992333    -0.974131    -0.975352    -0.934447   \n",
       "50%      -0.827534    -0.937664    -0.799907    -0.817005    -0.852659   \n",
       "75%      -0.311432    -0.321719    -0.133488    -0.322771    -0.009965   \n",
       "max       0.489703     0.439657     1.000000     0.427958     0.786436   \n",
       "\n",
       "          ...               551          552          553          554  \\\n",
       "count     ...       2947.000000  2947.000000  2947.000000  2947.000000   \n",
       "mean      ...          0.130236    -0.277593    -0.598756     0.005264   \n",
       "std       ...          0.231018     0.317245     0.311042     0.336147   \n",
       "min       ...         -0.785543    -1.000000    -1.000000    -1.000000   \n",
       "25%       ...         -0.008433    -0.517494    -0.829593    -0.130541   \n",
       "50%       ...          0.142676    -0.311023    -0.683672     0.005188   \n",
       "75%       ...          0.288320    -0.083559    -0.458332     0.146200   \n",
       "max       ...          1.000000     1.000000     1.000000     0.998898   \n",
       "\n",
       "               555          556          557          558          559  \\\n",
       "count  2947.000000  2947.000000  2947.000000  2947.000000  2947.000000   \n",
       "mean      0.003799     0.040029    -0.017298    -0.513923     0.074886   \n",
       "std       0.445077     0.634989     0.501311     0.509205     0.324300   \n",
       "min      -0.993402    -0.998898    -0.991096    -0.984195    -0.913704   \n",
       "25%      -0.282600    -0.518924    -0.428375    -0.829722     0.022140   \n",
       "50%       0.006767     0.047113    -0.026726    -0.729648     0.181563   \n",
       "75%       0.288113     0.622151     0.394387    -0.545939     0.260252   \n",
       "max       0.986347     1.000000     1.000000     0.833180     1.000000   \n",
       "\n",
       "               560  \n",
       "count  2947.000000  \n",
       "mean     -0.048720  \n",
       "std       0.241467  \n",
       "min      -0.949228  \n",
       "25%      -0.098485  \n",
       "50%      -0.010671  \n",
       "75%       0.092373  \n",
       "max       0.973113  \n",
       "\n",
       "[8 rows x 561 columns]"
      ]
     },
     "execution_count": 8,
     "metadata": {},
     "output_type": "execute_result"
    }
   ],
   "source": [
    "df_test = pd.read_fwf('X_test.txt',header=None)  ## loading test data\n",
    "df_test.describe()"
   ]
  },
  {
   "cell_type": "code",
   "execution_count": 9,
   "metadata": {
    "collapsed": false
   },
   "outputs": [
    {
     "name": "stdout",
     "output_type": "stream",
     "text": [
      "(2947, 561)\n",
      "False\n"
     ]
    }
   ],
   "source": [
    "print(df_test.shape)\n",
    "print(df_test.isnull().any().any())"
   ]
  },
  {
   "cell_type": "code",
   "execution_count": 10,
   "metadata": {
    "collapsed": true
   },
   "outputs": [],
   "source": [
    "y_test=pd.read_fwf(\"y_test.txt\",header=None)  ## test class label"
   ]
  },
  {
   "cell_type": "code",
   "execution_count": 11,
   "metadata": {
    "collapsed": false
   },
   "outputs": [
    {
     "data": {
      "text/plain": [
       "6    537\n",
       "5    532\n",
       "1    496\n",
       "4    491\n",
       "2    471\n",
       "3    420\n",
       "Name: 0, dtype: int64"
      ]
     },
     "execution_count": 11,
     "metadata": {},
     "output_type": "execute_result"
    }
   ],
   "source": [
    "y_test[0].value_counts()\n",
    "\n",
    "## This shows that the classification problem is multiclass and also data set is balanced."
   ]
  },
  {
   "cell_type": "code",
   "execution_count": 12,
   "metadata": {
    "collapsed": true
   },
   "outputs": [],
   "source": [
    "##Machine learning part"
   ]
  },
  {
   "cell_type": "code",
   "execution_count": 13,
   "metadata": {
    "collapsed": true
   },
   "outputs": [],
   "source": [
    "\n",
    "nb_model = GaussianNB()"
   ]
  },
  {
   "cell_type": "code",
   "execution_count": 14,
   "metadata": {
    "collapsed": false
   },
   "outputs": [
    {
     "data": {
      "text/plain": [
       "GaussianNB()"
      ]
     },
     "execution_count": 14,
     "metadata": {},
     "output_type": "execute_result"
    }
   ],
   "source": [
    "nb_model.fit(df_train, y_train[0])"
   ]
  },
  {
   "cell_type": "code",
   "execution_count": 15,
   "metadata": {
    "collapsed": false
   },
   "outputs": [
    {
     "data": {
      "text/plain": [
       "0.77061418391584657"
      ]
     },
     "execution_count": 15,
     "metadata": {},
     "output_type": "execute_result"
    }
   ],
   "source": [
    "nb_model.score(df_test,y_test) ## model accuracy"
   ]
  },
  {
   "cell_type": "code",
   "execution_count": 21,
   "metadata": {
    "collapsed": false
   },
   "outputs": [
    {
     "data": {
      "text/plain": [
       "GridSearchCV(cv=3, error_score='raise',\n",
       "       estimator=SVC(C=1.0, cache_size=200, class_weight=None, coef0=0.0,\n",
       "  decision_function_shape=None, degree=3, gamma='auto', kernel='rbf',\n",
       "  max_iter=-1, probability=False, random_state=None, shrinking=True,\n",
       "  tol=0.001, verbose=False),\n",
       "       fit_params={}, iid=True, n_jobs=1,\n",
       "       param_grid=[{'C': [1, 10, 100, 1000], 'kernel': ['rbf'], 'gamma': [0.1, 0.01, 0.001, 0.0001]}],\n",
       "       pre_dispatch='2*n_jobs', refit=True, scoring=None, verbose=0)"
      ]
     },
     "execution_count": 21,
     "metadata": {},
     "output_type": "execute_result"
    }
   ],
   "source": [
    "## Support vector machine, using 3 fold cross validation for parameter tuning \n",
    "\n",
    "\n",
    "\n",
    "tuned_parameters = [{'kernel': ['rbf'], 'gamma': [0.1,0.01,0.001, 0.0001],\n",
    "                     'C': [1, 10, 100, 1000]}]\n",
    "\n",
    "svm = GridSearchCV(SVC(), tuned_parameters, cv=3)\n",
    "\n",
    "\n",
    "\n",
    "svm.fit(df_train, y_train[0])\n",
    "\n"
   ]
  },
  {
   "cell_type": "code",
   "execution_count": 24,
   "metadata": {
    "collapsed": false
   },
   "outputs": [
    {
     "data": {
      "text/plain": [
       "{'C': 1000, 'gamma': 0.01, 'kernel': 'rbf'}"
      ]
     },
     "execution_count": 24,
     "metadata": {},
     "output_type": "execute_result"
    }
   ],
   "source": [
    "svm.best_params_\n"
   ]
  },
  {
   "cell_type": "code",
   "execution_count": 25,
   "metadata": {
    "collapsed": false
   },
   "outputs": [
    {
     "data": {
      "text/plain": [
       "0.96267390566677979"
      ]
     },
     "execution_count": 25,
     "metadata": {},
     "output_type": "execute_result"
    }
   ],
   "source": [
    "svm.score(df_test,y_test)  ## Accuracy of SVM model"
   ]
  },
  {
   "cell_type": "code",
   "execution_count": 16,
   "metadata": {
    "collapsed": false
   },
   "outputs": [
    {
     "data": {
      "text/plain": [
       "PCA(copy=True, n_components=None, whiten=False)"
      ]
     },
     "execution_count": 16,
     "metadata": {},
     "output_type": "execute_result"
    }
   ],
   "source": [
    "  ## Principl component analysis for dimensionality reduction. \n",
    "    \n",
    "\n",
    "pca_train= PCA()\n",
    "pca_train.fit(df_train)\n",
    "\n",
    "##pca_train = pca_train.transform(df_train)"
   ]
  },
  {
   "cell_type": "code",
   "execution_count": 17,
   "metadata": {
    "collapsed": false
   },
   "outputs": [],
   "source": [
    "var= pca_train.explained_variance_ratio_\n"
   ]
  },
  {
   "cell_type": "code",
   "execution_count": 18,
   "metadata": {
    "collapsed": false
   },
   "outputs": [
    {
     "data": {
      "text/plain": [
       "array([ 67.45,  71.58,  73.45,  75.14,  76.41,  77.59,  78.66,  79.63,\n",
       "        80.49,  81.25,  81.92,  82.5 ,  83.06,  83.56,  84.03,  84.5 ,\n",
       "        84.93,  85.36,  85.77,  86.16,  86.54,  86.89,  87.23,  87.56,\n",
       "        87.88,  88.18,  88.47,  88.76,  89.04,  89.32,  89.58,  89.84,\n",
       "        90.08,  90.31,  90.53,  90.75,  90.96,  91.17,  91.37,  91.56,\n",
       "        91.75,  91.93,  92.11,  92.28,  92.44,  92.6 ,  92.76,  92.91,\n",
       "        93.06,  93.2 ,  93.34,  93.48,  93.61,  93.74,  93.86,  93.98,\n",
       "        94.1 ,  94.21,  94.32,  94.43,  94.53,  94.63,  94.73,  94.83])"
      ]
     },
     "execution_count": 18,
     "metadata": {},
     "output_type": "execute_result"
    }
   ],
   "source": [
    "# Now calculating the cumulative Variance explained\n",
    "cum_var=np.cumsum(np.round(pca_train.explained_variance_ratio_, decimals=4)*100)\n",
    "cum_var[1:65]"
   ]
  },
  {
   "cell_type": "code",
   "execution_count": 19,
   "metadata": {
    "collapsed": false
   },
   "outputs": [
    {
     "data": {
      "text/plain": [
       "<matplotlib.text.Text at 0x224b7395ac8>"
      ]
     },
     "execution_count": 19,
     "metadata": {},
     "output_type": "execute_result"
    },
    {
     "data": {
      "image/png": "[encoded data removed]",
      "text/plain": [
       "<matplotlib.figure.Figure at 0x224b68fd4a8>"
      ]
     },
     "metadata": {},
     "output_type": "display_data"
    }
   ],
   "source": [
    "import matplotlib.pyplot as plt\n",
    "%matplotlib inline\n",
    "plt.plot(cum_var)\n",
    "plt.ylabel(\"Cumulative variance explained\")\n",
    "plt.xlabel(\"principal compoents\")\n",
    "\n",
    "## It  65 componets explains alomost 95 percent of variance in data"
   ]
  },
  {
   "cell_type": "code",
   "execution_count": null,
   "metadata": {
    "collapsed": true
   },
   "outputs": [],
   "source": []
  },
  {
   "cell_type": "code",
   "execution_count": null,
   "metadata": {
    "collapsed": true
   },
   "outputs": [],
   "source": []
  },
  {
   "cell_type": "code",
   "execution_count": null,
   "metadata": {
    "collapsed": true
   },
   "outputs": [],
   "source": []
  },
  {
   "cell_type": "code",
   "execution_count": 20,
   "metadata": {
    "collapsed": false
   },
   "outputs": [
    {
     "data": {
      "text/plain": [
       "(2947, 65)"
      ]
     },
     "execution_count": 20,
     "metadata": {},
     "output_type": "execute_result"
    }
   ],
   "source": [
    "## NOw performing pca with 65 components\n",
    "\n",
    "pca = PCA(n_components=65)\n",
    "pca.fit(df_train)\n",
    "\n",
    "pca_train = pca.transform(df_train)\n",
    "pca_test = pca.transform(df_test)\n",
    "\n",
    "pca_test.shape\n",
    "\n"
   ]
  },
  {
   "cell_type": "code",
   "execution_count": 22,
   "metadata": {
    "collapsed": true
   },
   "outputs": [],
   "source": [
    "nb_model_pca = GaussianNB()"
   ]
  },
  {
   "cell_type": "code",
   "execution_count": 23,
   "metadata": {
    "collapsed": false
   },
   "outputs": [
    {
     "data": {
      "text/plain": [
       "0.87580590430946725"
      ]
     },
     "execution_count": 23,
     "metadata": {},
     "output_type": "execute_result"
    }
   ],
   "source": [
    "nb_model_pca.fit(pca_train, y_train[0])\n",
    "nb_model_pca.score(pca_test,y_test) ## model accuracy of naive bayes after reducing dimension\n",
    "\n",
    "## We see the accuracy improved "
   ]
  },
  {
   "cell_type": "code",
   "execution_count": null,
   "metadata": {
    "collapsed": true
   },
   "outputs": [],
   "source": []
  },
  {
   "cell_type": "code",
   "execution_count": 39,
   "metadata": {
    "collapsed": false
   },
   "outputs": [
    {
     "data": {
      "text/plain": [
       "GridSearchCV(cv=3, error_score='raise',\n",
       "       estimator=SVC(C=1.0, cache_size=200, class_weight=None, coef0=0.0,\n",
       "  decision_function_shape=None, degree=3, gamma='auto', kernel='rbf',\n",
       "  max_iter=-1, probability=False, random_state=None, shrinking=True,\n",
       "  tol=0.001, verbose=False),\n",
       "       fit_params={}, iid=True, n_jobs=1,\n",
       "       param_grid=[{'C': [1, 10, 100, 1000], 'kernel': ['rbf'], 'gamma': [0.1, 0.01, 0.001, 0.0001]}],\n",
       "       pre_dispatch='2*n_jobs', refit=True, scoring=None, verbose=0)"
      ]
     },
     "execution_count": 39,
     "metadata": {},
     "output_type": "execute_result"
    }
   ],
   "source": [
    "## Support vector machine on dimension reduced data , using 3 fold cross validation for parameter tuning  \n",
    "\n",
    "\n",
    "\n",
    "tuned_parameters_pca = [{'kernel': ['rbf'], 'gamma': [0.1,0.01,0.001, 0.0001],\n",
    "                     'C': [1, 10, 100, 1000]}]\n",
    "\n",
    "svm_pca = GridSearchCV(SVC(), tuned_parameters_pca, cv=3)\n",
    "\n",
    "\n",
    "\n",
    "svm_pca.fit(pca_train, y_train[0])"
   ]
  },
  {
   "cell_type": "code",
   "execution_count": 40,
   "metadata": {
    "collapsed": false
   },
   "outputs": [
    {
     "data": {
      "text/plain": [
       "{'C': 1000, 'gamma': 0.01, 'kernel': 'rbf'}"
      ]
     },
     "execution_count": 40,
     "metadata": {},
     "output_type": "execute_result"
    }
   ],
   "source": [
    "svm_pca.best_params_"
   ]
  },
  {
   "cell_type": "code",
   "execution_count": 41,
   "metadata": {
    "collapsed": false
   },
   "outputs": [
    {
     "data": {
      "text/plain": [
       "0.94061757719714967"
      ]
     },
     "execution_count": 41,
     "metadata": {},
     "output_type": "execute_result"
    }
   ],
   "source": [
    "\n",
    "svm_pca.score(pca_test,y_test) \n",
    "\n",
    "## SVM model accuracy after reducing dimension using PCA"
   ]
  },
  {
   "cell_type": "code",
   "execution_count": 43,
   "metadata": {
    "collapsed": true
   },
   "outputs": [],
   "source": [
    "## Random forests\n",
    "\n"
   ]
  },
  {
   "cell_type": "code",
   "execution_count": 44,
   "metadata": {
    "collapsed": false
   },
   "outputs": [],
   "source": [
    "rf_model = RandomForestClassifier(n_estimators=501, oob_score=True)\n",
    "\n",
    "\n",
    "\n"
   ]
  },
  {
   "cell_type": "code",
   "execution_count": 46,
   "metadata": {
    "collapsed": false
   },
   "outputs": [
    {
     "data": {
      "text/plain": [
       "0.92975907702748561"
      ]
     },
     "execution_count": 46,
     "metadata": {},
     "output_type": "execute_result"
    }
   ],
   "source": [
    "rf_model.fit(df_train, y_train[0])\n",
    "rf_model.score(df_test,y_test)"
   ]
  },
  {
   "cell_type": "code",
   "execution_count": 49,
   "metadata": {
    "collapsed": false
   },
   "outputs": [],
   "source": [
    "## Viewing the feature importance\n",
    "feat_importances = rf_model.feature_importances_\n",
    "indices = np.argsort(feat_importances)[::-1]##  sorting the feature indices in descending order\n"
   ]
  },
  {
   "cell_type": "code",
   "execution_count": null,
   "metadata": {
    "collapsed": false
   },
   "outputs": [],
   "source": []
  },
  {
   "cell_type": "code",
   "execution_count": 50,
   "metadata": {
    "collapsed": false
   },
   "outputs": [
    {
     "data": {
      "text/plain": [
       "array([ 0.03085079,  0.0305172 ,  0.02922103,  0.02915389,  0.02748138,\n",
       "        0.02553096,  0.02387736,  0.02342588,  0.02290399,  0.01623984,\n",
       "        0.01386023,  0.01081371,  0.01048121,  0.00960825,  0.00947361,\n",
       "        0.00943038,  0.00930744,  0.00922816,  0.00873158,  0.00825693,\n",
       "        0.00822697,  0.00811096,  0.00788929,  0.00769559,  0.00755556,\n",
       "        0.00745049,  0.00718778,  0.00714661,  0.0070203 ,  0.00690196,\n",
       "        0.00681315,  0.00681188,  0.00680106,  0.00676528,  0.00671638,\n",
       "        0.00653898,  0.00630725,  0.00621867,  0.00609059,  0.00598086,\n",
       "        0.00591948,  0.00591877,  0.00583141,  0.00574741,  0.00570512,\n",
       "        0.00566221,  0.00565954,  0.00556315,  0.0055117 ,  0.00549182,\n",
       "        0.00546386,  0.00542529,  0.00513609,  0.00495163,  0.00490793,\n",
       "        0.00478287,  0.00478114,  0.0047006 ,  0.0045426 ,  0.00451585,\n",
       "        0.00445008,  0.00442922,  0.00421174,  0.00414231,  0.00404772,\n",
       "        0.00404103,  0.00400864,  0.00397871,  0.00392698,  0.00389891,\n",
       "        0.00376593,  0.0036683 ,  0.00362185,  0.00353345,  0.00348567,\n",
       "        0.00341235,  0.00341159,  0.00333805,  0.00331559,  0.00329269,\n",
       "        0.00317903,  0.00316226,  0.0031351 ,  0.00312701,  0.00308091,\n",
       "        0.0030733 ,  0.00306616,  0.00302634,  0.00300067,  0.00293022,\n",
       "        0.00292467,  0.00291978,  0.00290089,  0.00286779,  0.00284675,\n",
       "        0.00283796,  0.00282287,  0.0027909 ,  0.00277059,  0.00273094,\n",
       "        0.00270966,  0.00253204,  0.0025089 ,  0.00246897,  0.0024487 ,\n",
       "        0.00232896,  0.00230583,  0.00230118,  0.00226141,  0.00226121,\n",
       "        0.00216982,  0.00216297,  0.00213322,  0.00212819,  0.00211639,\n",
       "        0.00208552,  0.00208223,  0.00207875,  0.00207238,  0.00203357,\n",
       "        0.00202975,  0.00202595,  0.0020078 ,  0.00199218,  0.00194735,\n",
       "        0.0019325 ,  0.00191525,  0.0019104 ,  0.00188759,  0.00187188,\n",
       "        0.00186806,  0.00183169,  0.00182904,  0.00181911,  0.00181869,\n",
       "        0.00169789,  0.00160724,  0.00156172,  0.00155455,  0.00151122,\n",
       "        0.0014994 ,  0.00148174,  0.00148141,  0.00146501,  0.0014614 ,\n",
       "        0.00144572,  0.00141988,  0.00138523,  0.00137877,  0.0013714 ,\n",
       "        0.001358  ,  0.00135054,  0.00132044,  0.00131859,  0.0013178 ,\n",
       "        0.00131406,  0.00130747,  0.00127572,  0.00119672,  0.0011507 ,\n",
       "        0.00113201,  0.00111525,  0.00108032,  0.0010525 ,  0.0010291 ,\n",
       "        0.00101326,  0.00101154,  0.00100899,  0.00099803,  0.00099747,\n",
       "        0.00099289,  0.00093133,  0.00093063,  0.00092871,  0.00092513,\n",
       "        0.00090976,  0.00090954,  0.00088692,  0.0008863 ,  0.00087245,\n",
       "        0.00087016,  0.0008674 ,  0.00085102,  0.00084537,  0.00083282,\n",
       "        0.00082411,  0.00082336,  0.00080405,  0.00080372,  0.00079574,\n",
       "        0.00079071,  0.00078641,  0.00078349,  0.00077775,  0.00077293,\n",
       "        0.00075018,  0.00074869,  0.00074115,  0.00073887,  0.00073777,\n",
       "        0.00073665,  0.00073557,  0.00073543,  0.00073497,  0.00073015,\n",
       "        0.00072462,  0.00072205,  0.00072055,  0.00071632,  0.00071434,\n",
       "        0.00071237,  0.00069956,  0.00069346,  0.0006859 ,  0.00068291,\n",
       "        0.00068223,  0.00067795,  0.00067578,  0.00065322,  0.00064793,\n",
       "        0.0006466 ,  0.00064495,  0.00064284,  0.00064184,  0.00064039,\n",
       "        0.00063589,  0.00063118,  0.00062856,  0.0006283 ,  0.00062427,\n",
       "        0.00062248,  0.00062229,  0.00062152,  0.00061829,  0.00060965,\n",
       "        0.00060305,  0.00058667,  0.0005815 ,  0.00057209,  0.00057022,\n",
       "        0.0005686 ,  0.00056774,  0.00056652,  0.00055975,  0.00055864,\n",
       "        0.000557  ,  0.00054862,  0.00054137,  0.00052862,  0.00052324,\n",
       "        0.00052081,  0.00051869,  0.00051797,  0.00051593,  0.00051537,\n",
       "        0.00051165,  0.00051143,  0.00051126,  0.00051055,  0.00050383,\n",
       "        0.00050218,  0.00049589,  0.00049257,  0.00049253,  0.00049196,\n",
       "        0.00049099,  0.00049012,  0.00048524,  0.00048399,  0.00047689,\n",
       "        0.00047017,  0.00046869,  0.00046357,  0.00045877,  0.00045627,\n",
       "        0.00045538,  0.00045098,  0.00044881,  0.00044757,  0.00044302,\n",
       "        0.00044286,  0.00044244,  0.00043458,  0.00043318,  0.00042955,\n",
       "        0.00042954,  0.00042872,  0.00041234,  0.00040792,  0.00040648,\n",
       "        0.00040562,  0.00040255,  0.00039944,  0.00039581,  0.0003956 ,\n",
       "        0.00039399,  0.00039267,  0.00039047,  0.00038632,  0.0003848 ,\n",
       "        0.0003846 ,  0.00038264,  0.00038157,  0.00038076,  0.00037959,\n",
       "        0.00037788,  0.00037756,  0.00037668,  0.0003757 ,  0.00037496,\n",
       "        0.00037387,  0.00037357,  0.00037259,  0.00037154,  0.00037095,\n",
       "        0.00037003,  0.00036988,  0.00036891,  0.00036473,  0.00035762,\n",
       "        0.00035736,  0.00035517,  0.00035268,  0.00035265,  0.00035014,\n",
       "        0.00035002,  0.00034986,  0.00034101,  0.00033977,  0.00033665,\n",
       "        0.00033381,  0.0003321 ,  0.00033162,  0.00032921,  0.00032831,\n",
       "        0.00032683,  0.00032591,  0.00032513,  0.00032212,  0.0003191 ,\n",
       "        0.0003181 ,  0.00031738,  0.00031601,  0.00031439,  0.00031379,\n",
       "        0.0003131 ,  0.00031263,  0.00031142,  0.00031066,  0.00030935,\n",
       "        0.00030915,  0.00030902,  0.00030489,  0.00030263,  0.00030028,\n",
       "        0.00029983,  0.00029631,  0.00029379,  0.00029271,  0.00029186,\n",
       "        0.00029156,  0.00029047,  0.00028962,  0.00028931,  0.00028875,\n",
       "        0.00028856,  0.00028774,  0.00028642,  0.00028421,  0.0002824 ,\n",
       "        0.00028167,  0.00028092,  0.00028029,  0.00027902,  0.00027717,\n",
       "        0.00027476,  0.00027289,  0.00027242,  0.00027181,  0.00027168,\n",
       "        0.00027126,  0.00027109,  0.00027001,  0.00026626,  0.00026597,\n",
       "        0.00026574,  0.00026543,  0.00026514,  0.00026278,  0.00026268,\n",
       "        0.00026226,  0.00026159,  0.00026084,  0.00026026,  0.00025923,\n",
       "        0.00025857,  0.00025855,  0.00025767,  0.00025613,  0.00025455,\n",
       "        0.00025353,  0.00025307,  0.00025236,  0.0002511 ,  0.00025086,\n",
       "        0.00025055,  0.00025037,  0.00024988,  0.00024683,  0.00024656,\n",
       "        0.000246  ,  0.00024199,  0.00023945,  0.00023918,  0.00023906,\n",
       "        0.00023591,  0.000235  ,  0.00023487,  0.00023443,  0.00023431,\n",
       "        0.00023198,  0.00023063,  0.00023041,  0.00022571,  0.00022511,\n",
       "        0.00022463,  0.00022237,  0.00022194,  0.00022163,  0.0002216 ,\n",
       "        0.00022031,  0.00022003,  0.00021824,  0.00021632,  0.00021517,\n",
       "        0.00021295,  0.00021136,  0.00021033,  0.00020993,  0.00020983,\n",
       "        0.00020904,  0.00020841,  0.00020802,  0.0002073 ,  0.00020685,\n",
       "        0.00020434,  0.00020297,  0.00020241,  0.00020192,  0.00020184,\n",
       "        0.00019945,  0.00019819,  0.00019765,  0.00019749,  0.00019668,\n",
       "        0.00019634,  0.00019612,  0.00019569,  0.00019552,  0.00019482,\n",
       "        0.00019402,  0.00019384,  0.00019381,  0.00019372,  0.00019323,\n",
       "        0.00019191,  0.00019183,  0.00019111,  0.00019036,  0.00018989,\n",
       "        0.00018954,  0.00018953,  0.00018869,  0.00018707,  0.00018577,\n",
       "        0.00018563,  0.0001841 ,  0.00018331,  0.00018216,  0.000182  ,\n",
       "        0.00018083,  0.00018059,  0.00018011,  0.00017967,  0.00017953,\n",
       "        0.00017926,  0.00017871,  0.00017665,  0.00017582,  0.00017556,\n",
       "        0.00017503,  0.00017434,  0.00017318,  0.00017281,  0.0001726 ,\n",
       "        0.00017176,  0.00017116,  0.00017081,  0.00016773,  0.00016707,\n",
       "        0.00016651,  0.00016603,  0.00016576,  0.00016469,  0.00016386,\n",
       "        0.00016371,  0.00016327,  0.00016318,  0.00016283,  0.00016228,\n",
       "        0.00016207,  0.00016144,  0.00016019,  0.00015842,  0.00015807,\n",
       "        0.00015797,  0.00015698,  0.0001554 ,  0.00015449,  0.00015271,\n",
       "        0.00015199,  0.00015047,  0.00014905,  0.00014652,  0.00014549,\n",
       "        0.00014547,  0.00014544,  0.00014444,  0.00014405,  0.00014398,\n",
       "        0.0001435 ,  0.00014323,  0.00014222,  0.00014201,  0.00014141,\n",
       "        0.00013919,  0.00013779,  0.00013776,  0.0001369 ,  0.0001362 ,\n",
       "        0.00013533,  0.00013417,  0.00013413,  0.00013081,  0.00013049,\n",
       "        0.00013021,  0.00012839,  0.00012835,  0.00012723,  0.00012534,\n",
       "        0.0001225 ,  0.00012004,  0.00011923,  0.0001187 ,  0.00011765,\n",
       "        0.00011642,  0.00011404,  0.00011306,  0.00010963,  0.00010686,\n",
       "        0.0001018 ])"
      ]
     },
     "execution_count": 50,
     "metadata": {},
     "output_type": "execute_result"
    }
   ],
   "source": [
    "feat_importances[indices]\n"
   ]
  },
  {
   "cell_type": "code",
   "execution_count": 51,
   "metadata": {
    "collapsed": false
   },
   "outputs": [
    {
     "data": {
      "text/plain": [
       "[<matplotlib.lines.Line2D at 0x15b85b47b38>]"
      ]
     },
     "execution_count": 51,
     "metadata": {},
     "output_type": "execute_result"
    },
    {
     "data": {
      "image/png": "[encoded data removed]",
      "text/plain": [
       "<matplotlib.figure.Figure at 0x15b85ae1c18>"
      ]
     },
     "metadata": {},
     "output_type": "display_data"
    }
   ],
   "source": [
    "plt.plot(feat_importances[indices])"
   ]
  },
  {
   "cell_type": "code",
   "execution_count": 52,
   "metadata": {
    "collapsed": false
   },
   "outputs": [],
   "source": [
    "## Now, running random forest with 100 most informative features\n",
    "\n",
    "\n",
    "reduced_df_train=df_train.iloc[ :,indices[0:100] ]\n",
    "reduced_df_test=df_test.iloc[ :,indices[0:100] ]\n",
    "\n",
    "\n"
   ]
  },
  {
   "cell_type": "code",
   "execution_count": 53,
   "metadata": {
    "collapsed": false
   },
   "outputs": [
    {
     "data": {
      "text/plain": [
       "RandomForestClassifier(bootstrap=True, class_weight=None, criterion='gini',\n",
       "            max_depth=None, max_features='auto', max_leaf_nodes=None,\n",
       "            min_samples_leaf=1, min_samples_split=2,\n",
       "            min_weight_fraction_leaf=0.0, n_estimators=501, n_jobs=1,\n",
       "            oob_score=True, random_state=None, verbose=0, warm_start=False)"
      ]
     },
     "execution_count": 53,
     "metadata": {},
     "output_type": "execute_result"
    }
   ],
   "source": [
    "reduced_rf = RandomForestClassifier(n_estimators=501, oob_score=True)\n",
    "\n",
    "\n",
    "reduced_rf.fit(reduced_df_train, y_train[0])"
   ]
  },
  {
   "cell_type": "code",
   "execution_count": 54,
   "metadata": {
    "collapsed": false
   },
   "outputs": [
    {
     "data": {
      "text/plain": [
       "0.90668476416694943"
      ]
     },
     "execution_count": 54,
     "metadata": {},
     "output_type": "execute_result"
    }
   ],
   "source": [
    "reduced_rf.score(reduced_df_test,y_test[0])"
   ]
  },
  {
   "cell_type": "code",
   "execution_count": null,
   "metadata": {
    "collapsed": false
   },
   "outputs": [],
   "source": [
    " "
   ]
  },
  {
   "cell_type": "code",
   "execution_count": 75,
   "metadata": {
    "collapsed": false
   },
   "outputs": [
    {
     "data": {
      "text/plain": [
       "0.90668476416694943"
      ]
     },
     "execution_count": 75,
     "metadata": {},
     "output_type": "execute_result"
    }
   ],
   "source": [
    "\n",
    "predicted = reduced_rf.predict(reduced_df_test)\n",
    "accuracy = accuracy_score(y_test, predicted)\n",
    "accuracy"
   ]
  },
  {
   "cell_type": "code",
   "execution_count": 76,
   "metadata": {
    "collapsed": false
   },
   "outputs": [
    {
     "data": {
      "text/plain": [
       "array([[480,  13,   3,   0,   0,   0],\n",
       "       [ 46, 418,   7,   0,   0,   0],\n",
       "       [ 16,  47, 357,   0,   0,   0],\n",
       "       [  0,   0,   0, 404,  87,   0],\n",
       "       [  0,   0,   0,  56, 476,   0],\n",
       "       [  0,   0,   0,   0,   0, 537]])"
      ]
     },
     "execution_count": 76,
     "metadata": {},
     "output_type": "execute_result"
    }
   ],
   "source": [
    "\n",
    "confusion_matrix(y_test, predicted)"
   ]
  },
  {
   "cell_type": "code",
   "execution_count": null,
   "metadata": {
    "collapsed": true
   },
   "outputs": [],
   "source": []
  }
 ],
 "metadata": {
  "kernelspec": {
   "display_name": "Python 3",
   "language": "python",
   "name": "python3"
  },
  "language_info": {
   "codemirror_mode": {
    "name": "ipython",
    "version": 3
   },
   "file_extension": ".py",
   "mimetype": "text/x-python",
   "name": "python",
   "nbconvert_exporter": "python",
   "pygments_lexer": "ipython3",
   "version": "3.5.1"
  }
 },
 "nbformat": 4,
 "nbformat_minor": 0
}
